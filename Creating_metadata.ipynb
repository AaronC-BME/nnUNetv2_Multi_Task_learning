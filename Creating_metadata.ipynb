{
 "cells": [
  {
   "cell_type": "code",
   "execution_count": 4,
   "id": "2b5ae2db-0b95-4858-9016-37c372bfe653",
   "metadata": {},
   "outputs": [
    {
     "name": "stdout",
     "output_type": "stream",
     "text": [
      "dataset.json saved to C:\\Users\\Admin\\nnUNet\\nnUNet_raw\\Dataset001_Pancreas\\dataset.json\n"
     ]
    }
   ],
   "source": [
    "import os\n",
    "import json\n",
    "import pandas as pd\n",
    "\n",
    "# Define paths\n",
    "base_dir = r\"...\\nnUNet\\nnUNet_raw\\Dataset001_Pancreas\" #Add to the necessary pathing\n",
    "imagesTr_dir = os.path.join(base_dir, \"imagesTr\")\n",
    "labelsTr_dir = os.path.join(base_dir, \"labelsTr\")\n",
    "imagesTs_dir = os.path.join(base_dir, \"imagesTs\")\n",
    "classification_labels_file = r\"...\\classification_labels.csv\" #replace with path to excel file\n",
    "\n",
    "# Read classification labels from CSV\n",
    "classification_labels = pd.read_csv(classification_labels_file)\n",
    "\n",
    "# Helper function to create entries\n",
    "def create_entries(image_dir, label_dir=None, classification_labels=None):\n",
    "    entries = []\n",
    "    for _, row in classification_labels.iterrows():\n",
    "        filename = row[\"filename\"]\n",
    "        subtype = int(row[\"subtype\"])  # Classification label\n",
    "        image_path = os.path.join(image_dir, filename)\n",
    "        entry = {\"image\": image_path, \"classification_label\": subtype}\n",
    "        if label_dir:\n",
    "            label_path = os.path.join(label_dir, filename.replace(\"_0000.nii.gz\", \".nii.gz\"))\n",
    "            entry[\"label\"] = label_path\n",
    "        entries.append(entry)\n",
    "    return entries\n",
    "\n",
    "# Create training entries\n",
    "training_labels = classification_labels[classification_labels[\"split\"] == \"training\"]\n",
    "training_entries = create_entries(imagesTr_dir, labelsTr_dir, training_labels)\n",
    "\n",
    "# Create validation entries\n",
    "validation_labels = classification_labels[classification_labels[\"split\"] == \"validation\"]\n",
    "validation_entries = create_entries(imagesTr_dir, labelsTr_dir, validation_labels)\n",
    "\n",
    "# Create test entries\n",
    "test_entries = [os.path.join(imagesTs_dir, file) for file in os.listdir(imagesTs_dir) if file.endswith(\".nii.gz\")]\n",
    "\n",
    "# Create dataset.json structure\n",
    "dataset = {\n",
    "    \"name\": \"Task001_Pancreas\",\n",
    "    \"description\": \"Multi-task dataset for segmentation and classification\",\n",
    "    \"tensorImageSize\": \"3D\",\n",
    "    \"reference\": \"Provided dataset\",\n",
    "    \"licence\": \"CC-BY-SA\",\n",
    "    \"release\": \"0.1\",\n",
    "    \"channel_names\": {\n",
    "        \"0\": \"CT\"\n",
    "    },\n",
    "    \"labels\": {\n",
    "        \"background\": 0,\n",
    "        \"pancreas\": 1,\n",
    "        \"lesion\": 2\n",
    "    },\n",
    "    \"numTraining\": len(training_entries) + len(validation_entries),\n",
    "    \"file_ending\": \".nii.gz\",\n",
    "    \"training\": training_entries,\n",
    "    \"test\": test_entries\n",
    "}\n",
    "\n",
    "# Save dataset.json\n",
    "output_path = os.path.join(base_dir, \"dataset.json\")\n",
    "with open(output_path, \"w\") as f:\n",
    "    json.dump(dataset, f, indent=4)\n",
    "print(f\"dataset.json saved to {output_path}\")\n"
   ]
  },
  {
   "cell_type": "code",
   "execution_count": null,
   "id": "6dc09c5e-eb93-4d9f-80c7-a4934ff1780d",
   "metadata": {},
   "outputs": [],
   "source": []
  }
 ],
 "metadata": {
  "kernelspec": {
   "display_name": "Python 3 (ipykernel)",
   "language": "python",
   "name": "python3"
  },
  "language_info": {
   "codemirror_mode": {
    "name": "ipython",
    "version": 3
   },
   "file_extension": ".py",
   "mimetype": "text/x-python",
   "name": "python",
   "nbconvert_exporter": "python",
   "pygments_lexer": "ipython3",
   "version": "3.10.16"
  }
 },
 "nbformat": 4,
 "nbformat_minor": 5
}
