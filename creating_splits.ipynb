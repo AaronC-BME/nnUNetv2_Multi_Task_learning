{
 "cells": [
  {
   "cell_type": "code",
   "execution_count": 1,
   "id": "8aa5a5f5-7b9d-4bf7-969a-7aa5d2dfbbe0",
   "metadata": {},
   "outputs": [
    {
     "data": {
      "text/plain": [
       "'C:\\\\Users\\\\Admin\\\\OneDrive - University of Toronto\\\\Desktop\\\\Jobs\\\\M31 AI\\\\UHN-MedImg3D-ML-quiz\\\\splits_final.json'"
      ]
     },
     "execution_count": 1,
     "metadata": {},
     "output_type": "execute_result"
    }
   ],
   "source": [
    "import os\n",
    "import json\n",
    "\n",
    "# Directories containing training and validation cases\n",
    "train_dir = r\"...\\UHN-MedImg3D-ML-quiz\\train\" #Replace with path to training data\n",
    "val_dir = r\"...\\UHN-MedImg3D-ML-quiz\\validation\" #Replace with path to validation data\n",
    "\n",
    "# Subtypes directories\n",
    "subtypes = [\"subtype0\", \"subtype1\", \"subtype2\"]\n",
    "\n",
    "def get_case_ids(directory):\n",
    "    \"\"\"Get unique case IDs from the given directory.\"\"\"\n",
    "    case_ids = set()\n",
    "    for subtype in subtypes:\n",
    "        subtype_dir = os.path.join(directory, subtype)\n",
    "        if os.path.exists(subtype_dir):\n",
    "            for file_name in os.listdir(subtype_dir):\n",
    "                if file_name.endswith(\"0000.nii.gz\"):\n",
    "                    case_id = \"_\".join(file_name.split(\"_\")[:3])  # Extract case ID (e.g., quiz_0_168)\n",
    "                    case_ids.add(case_id)\n",
    "    return sorted(case_ids)\n",
    "\n",
    "# Get training and validation case IDs\n",
    "train_cases = get_case_ids(train_dir)\n",
    "val_cases = get_case_ids(val_dir)\n",
    "\n",
    "# Check for duplicates between train and val\n",
    "duplicates = set(train_cases).intersection(set(val_cases))\n",
    "if duplicates:\n",
    "    print(f\"Warning: Found duplicate cases between training and validation sets: {duplicates}\")\n",
    "\n",
    "# Generate the splits_final.json content\n",
    "splits = [\n",
    "    {\n",
    "        \"train\": train_cases,\n",
    "        \"val\": val_cases\n",
    "    }\n",
    "]\n",
    "\n",
    "# Save splits_final.json to file\n",
    "output_path = r\"...\\nnUNet\\nnUNet_preprocessed\\splits_final.json\" #Add the necessary pathing\n",
    "with open(output_path, \"w\") as f:\n",
    "    json.dump(splits, f, indent=4)\n",
    "\n",
    "output_path\n"
   ]
  },
  {
   "cell_type": "code",
   "execution_count": null,
   "id": "793823c1-6628-4bc2-bc1d-7ea5792051ae",
   "metadata": {},
   "outputs": [],
   "source": []
  }
 ],
 "metadata": {
  "kernelspec": {
   "display_name": "Python 3 (ipykernel)",
   "language": "python",
   "name": "python3"
  },
  "language_info": {
   "codemirror_mode": {
    "name": "ipython",
    "version": 3
   },
   "file_extension": ".py",
   "mimetype": "text/x-python",
   "name": "python",
   "nbconvert_exporter": "python",
   "pygments_lexer": "ipython3",
   "version": "3.10.16"
  }
 },
 "nbformat": 4,
 "nbformat_minor": 5
}
